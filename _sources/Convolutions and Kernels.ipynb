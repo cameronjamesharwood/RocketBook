{
 "cells": [
  {
   "cell_type": "markdown",
   "id": "5cf16ccf-f4e3-4be1-871c-dfaf72f50129",
   "metadata": {},
   "source": [
    "\n",
    "\n"
   ]
  },
  {
   "cell_type": "markdown",
   "id": "65b3a92a-8beb-40f6-a3f7-0a7b377bfded",
   "metadata": {},
   "source": [
    "\n",
    "# Convolutions a long long time ago...\n",
    "## Battle for Naboo: Blaster Shots and Energy Shield Beasts \n",
    "\n",
    "<div style=\"text-align:center\">\n",
    "    <img src=\"./images/star_wars_force_field.png\" alt=\"Battle between the Gungan and Federation Armies on Naboo\" width=\"800\" height=\"150\"/>\n",
    "    <figcaption>Battle between the Gungan & Federation Armies on Naboo</figcaption>\n",
    "</div>\n",
    "\n",
    "Bombad General Binks is up against a formidable but predicatable foe, the Trade Federation Droid Army. After multiple encounters he has been able to memorise the Droids pre-programmed attack plan. In this droids collectively shoot a number of blaster shots at a single target every 5 seconds for 45 seconds. It has the following sequence: \n",
    "\n",
    "<table border=\"1\" cellspacing=\"0\" cellpadding=\"5\">\n",
    "    <caption>Blaster Shots Over Time</caption>\n",
    "    <tr>\n",
    "        <td>Time (s)</td>\n",
    "        <th>0</th>\n",
    "        <th>5</th>\n",
    "        <th>10</th>\n",
    "        <th>15</th>\n",
    "        <th>20</th>\n",
    "        <th>25</th>\n",
    "        <th>30</th>\n",
    "        <th>35</th>\n",
    "        <th>40</th>\n",
    "        <th>45</th>\n",
    "    </tr>\n",
    "    <tr>\n",
    "        <td>Blaster Shots</td>\n",
    "        <td>4</td>\n",
    "        <td>3</td>\n",
    "        <td>5</td>\n",
    "        <td>1</td>\n",
    "        <td>0</td>\n",
    "        <td>6</td>\n",
    "        <td>2</td>\n",
    "        <td>3</td>\n",
    "        <td>4</td>\n",
    "        <td>5</td>\n",
    "    </tr>\n",
    "</table>\n",
    "\n",
    "A direct blaster shot is lethal, fortunately General Binks has two options for protection. The question is, are they capable of protecting against this attack sequence?"
   ]
  },
  {
   "cell_type": "markdown",
   "id": "a33bee8e-3089-4335-bb35-4e4085800263",
   "metadata": {},
   "source": [
    "Hello there this a test\n",
    "\n",
    "\n",
    "<div style=\"text-align:center\">\n",
    "    <img src=\"./images/GunganPersonalShield.png\"/>\n",
    "    <figcaption>Battle between the Gungan & Federation Armies on Naboo</figcaption>\n",
    "</div>"
   ]
  },
  {
   "cell_type": "code",
   "execution_count": null,
   "id": "a716cdf6-9b93-4363-b1fd-2bdfc23e7589",
   "metadata": {},
   "outputs": [],
   "source": []
  }
 ],
 "metadata": {
  "kernelspec": {
   "display_name": "Python 3 (ipykernel)",
   "language": "python",
   "name": "python3"
  },
  "language_info": {
   "codemirror_mode": {
    "name": "ipython",
    "version": 3
   },
   "file_extension": ".py",
   "mimetype": "text/x-python",
   "name": "python",
   "nbconvert_exporter": "python",
   "pygments_lexer": "ipython3",
   "version": "3.11.6"
  }
 },
 "nbformat": 4,
 "nbformat_minor": 5
}
