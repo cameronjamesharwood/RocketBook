{
 "cells": [
  {
   "cell_type": "markdown",
   "id": "5cf16ccf-f4e3-4be1-871c-dfaf72f50129",
   "metadata": {},
   "source": [
    "\n",
    "# Convolutions a long long time ago...\n",
    "\n",
    "![alt-text](images/star_wars_force_field.png)\n"
   ]
  }
 ],
 "metadata": {
  "kernelspec": {
   "display_name": "Python 3 (ipykernel)",
   "language": "python",
   "name": "python3"
  },
  "language_info": {
   "codemirror_mode": {
    "name": "ipython",
    "version": 3
   },
   "file_extension": ".py",
   "mimetype": "text/x-python",
   "name": "python",
   "nbconvert_exporter": "python",
   "pygments_lexer": "ipython3",
   "version": "3.11.6"
  }
 },
 "nbformat": 4,
 "nbformat_minor": 5
}
